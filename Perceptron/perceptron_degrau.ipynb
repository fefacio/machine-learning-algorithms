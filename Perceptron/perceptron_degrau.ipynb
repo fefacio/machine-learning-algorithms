{
 "cells": [
  {
   "cell_type": "code",
   "execution_count": 224,
   "metadata": {},
   "outputs": [],
   "source": [
    "import random\n",
    "import pandas as pd\n",
    "import seaborn as sns\n",
    "import matplotlib.pyplot as plt\n",
    "import numpy as np\n",
    "import math\n",
    "from tqdm import tqdm\n",
    "from sklearn.preprocessing import MinMaxScaler\n",
    "from sklearn.metrics import confusion_matrix"
   ]
  },
  {
   "cell_type": "code",
   "execution_count": 185,
   "metadata": {},
   "outputs": [],
   "source": [
    "df = sns.load_dataset('iris')\n",
    "tipos = df.iloc[:,-1].unique().tolist()\n",
    "#Setosa e Versicolor\n",
    "df1 = df[df.iloc[:, -1].isin([tipos[0], tipos[1]])]\n",
    "#Versicolor e Virginica\n",
    "df2 = df[df.iloc[:, -1].isin([tipos[1], tipos[2]])]"
   ]
  },
  {
   "cell_type": "code",
   "execution_count": 186,
   "metadata": {},
   "outputs": [],
   "source": [
    "df1.loc[:,'species'] = df1['species'].replace({'setosa': 0, 'versicolor': 1})\n",
    "df1 = df1.sample(frac=1).reset_index(drop=True)\n",
    "df1_normalized = pd.DataFrame(MinMaxScaler().fit_transform(df1), columns=df1.columns)"
   ]
  },
  {
   "cell_type": "code",
   "execution_count": 187,
   "metadata": {},
   "outputs": [],
   "source": [
    "df2.loc[:,'species'] = df2['species'].replace({'virginica': 0, 'versicolor': 1})\n",
    "df2 = df2.sample(frac=1).reset_index(drop=True)\n",
    "df2_normalized = pd.DataFrame(MinMaxScaler().fit_transform(df2), columns=df2.columns)"
   ]
  },
  {
   "cell_type": "markdown",
   "metadata": {},
   "source": [
    "<b>Função degrau: </b><br>\n",
    "$\n",
    "\\\n",
    "f(x)=\n",
    "    \\begin{cases}\n",
    "       \\text{1,} &\\quad\\text{if x}\\ge0\\\\\n",
    "       \\text{0,} &\\quad\\text{otherwise}\\\\\n",
    "    \\end{cases}\n",
    "\\\n",
    "$"
   ]
  },
  {
   "cell_type": "code",
   "execution_count": 188,
   "metadata": {},
   "outputs": [],
   "source": [
    "def degrau(x):\n",
    "    if x >= 0:\n",
    "        return 1\n",
    "    return 0\n",
    "\n",
    "def reg(df,w,b):\n",
    "    lista_predicto = []\n",
    "    lista_real = []\n",
    "    linhas, colunas  = df.shape\n",
    "    for linha in range(linhas):\n",
    "        total = 0\n",
    "        for coluna in range(colunas-1):\n",
    "            x = df.iloc[linha,coluna]\n",
    "            total += x * w[coluna]\n",
    "    \n",
    "        \n",
    "        y_predicto = degrau(total + b)\n",
    "    \n",
    "\n",
    "        lista_predicto.append(y_predicto)\n",
    "    lista_real = df.iloc[:,colunas-1].tolist()\n",
    "    return lista_predicto, lista_real"
   ]
  },
  {
   "cell_type": "markdown",
   "metadata": {},
   "source": [
    "Para atualizar o peso e o bias da função degrau (classificação) estamos considerando a média dos erros <br><br>\n",
    "\n",
    "$\\omega_{k}^{t} = \\omega_{k}^{t-1} - \\eta^{t} \\cdot\\frac{1}{N} \\sum_{i=1}^N (\\hat{y}_i-y_i)$ <br><br>\n",
    "\n",
    "$b_{k}^{t} = b_{k}^{t-1} - \\eta^{t} \\cdot\\frac{1}{N} \\sum_{i=1}^N (\\hat{y}_i-y_i)$ <br><br>\n",
    "\n"
   ]
  },
  {
   "cell_type": "code",
   "execution_count": 195,
   "metadata": {},
   "outputs": [],
   "source": [
    "def atualizacao_peso(lista_predicto,lista_real,df,w,n,b,interacao):\n",
    "    \n",
    "    w_novo = []\n",
    "\n",
    "    #n = n_interacao(interacao,n)\n",
    "\n",
    "    linhas, colunas  = df.shape\n",
    "    \n",
    "    y_diferenca = [i1 - i2 for i1, i2 in zip(lista_predicto,lista_real)]\n",
    "\n",
    "    for coluna in range(colunas-1):\n",
    "        w_total = 0\n",
    "\n",
    "        for linha in range(linhas):\n",
    "            w_total += round(y_diferenca[linha] * df.iloc[linha,coluna],4)\n",
    "            #print(f'w_tot {w_total} l{linha} c{coluna} e{y_diferenca[linha]}')\n",
    "           \n",
    "            \n",
    "        w_total = w[coluna] - n * (1/linhas) * w_total\n",
    "        w_novo.append(w_total)\n",
    "\n",
    "\n",
    "\n",
    "    b_total = sum(y_diferenca)\n",
    "    \n",
    "    b_novo = b - n * (1/linhas) * b_total\n",
    "    \n",
    "    return w_novo,b_novo"
   ]
  },
  {
   "cell_type": "code",
   "execution_count": 190,
   "metadata": {},
   "outputs": [],
   "source": [
    "w = [round(random.gauss(0, 0.5),4) for _ in range(df.shape[1] - 1)]\n",
    "b = random.gauss(0, 0.5)\n",
    "n = 0.5"
   ]
  },
  {
   "cell_type": "code",
   "execution_count": 210,
   "metadata": {},
   "outputs": [
    {
     "name": "stderr",
     "output_type": "stream",
     "text": [
      "100%|███████████████████████████████████████████| 99/99 [00:02<00:00, 42.43it/s]\n"
     ]
    },
    {
     "name": "stderr",
     "output_type": "stream",
     "text": [
      "100%|██████████| 99/99 [00:01<00:00, 93.46it/s] \n"
     ]
    }
   ],
   "source": [
    "iteracao = 100\n",
    "for i in tqdm(range(1,iteracao)):\n",
    "    if (iteracao%11==0):\n",
    "        n = n*0.9\n",
    "    lista_predicto1, lista_real1 = reg(df1_normalized,w,b)\n",
    "    w, b = atualizacao_peso(lista_predicto1,lista_real1,df1_normalized,w,n,b,i)"
   ]
  },
  {
   "cell_type": "code",
   "execution_count": 157,
   "metadata": {},
   "outputs": [
    {
     "data": {
      "text/html": [
       "<div>\n",
       "<style scoped>\n",
       "    .dataframe tbody tr th:only-of-type {\n",
       "        vertical-align: middle;\n",
       "    }\n",
       "\n",
       "    .dataframe tbody tr th {\n",
       "        vertical-align: top;\n",
       "    }\n",
       "\n",
       "    .dataframe thead th {\n",
       "        text-align: right;\n",
       "    }\n",
       "</style>\n",
       "<table border=\"1\" class=\"dataframe\">\n",
       "  <thead>\n",
       "    <tr style=\"text-align: right;\">\n",
       "      <th></th>\n",
       "      <th>sepal_length</th>\n",
       "      <th>sepal_width</th>\n",
       "      <th>petal_length</th>\n",
       "      <th>petal_width</th>\n",
       "      <th>species</th>\n",
       "    </tr>\n",
       "  </thead>\n",
       "  <tbody>\n",
       "    <tr>\n",
       "      <th>0</th>\n",
       "      <td>7.3</td>\n",
       "      <td>2.9</td>\n",
       "      <td>6.3</td>\n",
       "      <td>1.8</td>\n",
       "      <td>0.0</td>\n",
       "    </tr>\n",
       "    <tr>\n",
       "      <th>1</th>\n",
       "      <td>5.2</td>\n",
       "      <td>2.7</td>\n",
       "      <td>3.9</td>\n",
       "      <td>1.4</td>\n",
       "      <td>1.0</td>\n",
       "    </tr>\n",
       "    <tr>\n",
       "      <th>2</th>\n",
       "      <td>6.9</td>\n",
       "      <td>3.1</td>\n",
       "      <td>4.9</td>\n",
       "      <td>1.5</td>\n",
       "      <td>1.0</td>\n",
       "    </tr>\n",
       "    <tr>\n",
       "      <th>3</th>\n",
       "      <td>5.6</td>\n",
       "      <td>3.0</td>\n",
       "      <td>4.5</td>\n",
       "      <td>1.5</td>\n",
       "      <td>1.0</td>\n",
       "    </tr>\n",
       "    <tr>\n",
       "      <th>4</th>\n",
       "      <td>5.9</td>\n",
       "      <td>3.0</td>\n",
       "      <td>5.1</td>\n",
       "      <td>1.8</td>\n",
       "      <td>0.0</td>\n",
       "    </tr>\n",
       "    <tr>\n",
       "      <th>...</th>\n",
       "      <td>...</td>\n",
       "      <td>...</td>\n",
       "      <td>...</td>\n",
       "      <td>...</td>\n",
       "      <td>...</td>\n",
       "    </tr>\n",
       "    <tr>\n",
       "      <th>96</th>\n",
       "      <td>5.1</td>\n",
       "      <td>2.5</td>\n",
       "      <td>3.0</td>\n",
       "      <td>1.1</td>\n",
       "      <td>1.0</td>\n",
       "    </tr>\n",
       "    <tr>\n",
       "      <th>97</th>\n",
       "      <td>7.0</td>\n",
       "      <td>3.2</td>\n",
       "      <td>4.7</td>\n",
       "      <td>1.4</td>\n",
       "      <td>1.0</td>\n",
       "    </tr>\n",
       "    <tr>\n",
       "      <th>98</th>\n",
       "      <td>5.0</td>\n",
       "      <td>2.3</td>\n",
       "      <td>3.3</td>\n",
       "      <td>1.0</td>\n",
       "      <td>1.0</td>\n",
       "    </tr>\n",
       "    <tr>\n",
       "      <th>99</th>\n",
       "      <td>6.3</td>\n",
       "      <td>2.5</td>\n",
       "      <td>5.0</td>\n",
       "      <td>1.9</td>\n",
       "      <td>0.0</td>\n",
       "    </tr>\n",
       "    <tr>\n",
       "      <th>100</th>\n",
       "      <td>6.3</td>\n",
       "      <td>2.3</td>\n",
       "      <td>4.4</td>\n",
       "      <td>1.3</td>\n",
       "      <td>1.0</td>\n",
       "    </tr>\n",
       "  </tbody>\n",
       "</table>\n",
       "<p>101 rows × 5 columns</p>\n",
       "</div>"
      ],
      "text/plain": [
       "     sepal_length  sepal_width  petal_length  petal_width  species\n",
       "0             7.3          2.9           6.3          1.8      0.0\n",
       "1             5.2          2.7           3.9          1.4      1.0\n",
       "2             6.9          3.1           4.9          1.5      1.0\n",
       "3             5.6          3.0           4.5          1.5      1.0\n",
       "4             5.9          3.0           5.1          1.8      0.0\n",
       "..            ...          ...           ...          ...      ...\n",
       "96            5.1          2.5           3.0          1.1      1.0\n",
       "97            7.0          3.2           4.7          1.4      1.0\n",
       "98            5.0          2.3           3.3          1.0      1.0\n",
       "99            6.3          2.5           5.0          1.9      0.0\n",
       "100           6.3          2.3           4.4          1.3      1.0\n",
       "\n",
       "[101 rows x 5 columns]"
      ]
     },
     "execution_count": 157,
     "metadata": {},
     "output_type": "execute_result"
    }
   ],
   "source": [
    "df2"
   ]
  },
  {
   "cell_type": "code",
   "execution_count": 218,
   "metadata": {},
   "outputs": [
    {
     "name": "stderr",
     "output_type": "stream",
     "text": [
      "100%|███████████████████████████████████████████| 99/99 [00:02<00:00, 43.59it/s]\n"
     ]
    },
    {
     "name": "stderr",
     "output_type": "stream",
     "text": [
      "100%|██████████| 99/99 [00:01<00:00, 96.59it/s] \n"
     ]
    }
   ],
   "source": [
    "iteracao = 100\n",
    "for i in tqdm(range(1,iteracao)):\n",
    "    lista_predicto2, lista_real2 = reg(df2_normalized,w,b)\n",
    "    w, b = atualizacao_peso(lista_predicto2,lista_real2,df2_normalized,w,n,b,i)"
   ]
  },
  {
   "cell_type": "code",
   "execution_count": 220,
   "metadata": {},
   "outputs": [
    {
     "name": "stdout",
     "output_type": "stream",
     "text": [
      "taxa de acertos: 100.0%\n"
     ]
    }
   ],
   "source": [
    "a = 0\n",
    "for i in range(len(lista_predicto1)):\n",
    "    if lista_predicto1[i] == lista_real1[i]:\n",
    "        a += 1\n",
    "print(f'taxa de acertos: {a/len(lista_real1)*100}%')"
   ]
  },
  {
   "cell_type": "code",
   "execution_count": 219,
   "metadata": {},
   "outputs": [
    {
     "name": "stdout",
     "output_type": "stream",
     "text": [
      "taxa de acertos: 95.0%\n"
     ]
    }
   ],
   "source": [
    "a = 0\n",
    "for i in range(len(lista_predicto2)):\n",
    "    if lista_predicto2[i] == lista_real2[i]:\n",
    "        a += 1\n",
    "print(f'taxa de acertos: {a/len(lista_real2)*100}%')"
   ]
  },
  {
   "cell_type": "code",
   "execution_count": 225,
   "metadata": {},
   "outputs": [
    {
     "data": {
      "image/png": "[encoded data removed]",
      "text/plain": [
       "<Figure size 600x500 with 2 Axes>"
      ]
     },
     "metadata": {},
     "output_type": "display_data"
    }
   ],
   "source": [
    "cm = confusion_matrix(lista_predicto1, lista_real1)\n",
    "\n",
    "plt.figure(figsize=(6, 5))\n",
    "sns.heatmap(cm, annot=True, fmt=\"d\", cmap=\"Blues\", xticklabels=[\"setosa\", \"versicolor\"], yticklabels=[\"setosa\", \"versicolor\"])\n",
    "plt.xlabel(\"Predito\")\n",
    "plt.ylabel(\"Real\")\n",
    "plt.title(\"Matriz de confusão\")\n",
    "plt.show()"
   ]
  },
  {
   "cell_type": "code",
   "execution_count": 226,
   "metadata": {},
   "outputs": [
    {
     "data": {
      "image/png": "[encoded data removed]",
      "text/plain": [
       "<Figure size 600x500 with 2 Axes>"
      ]
     },
     "metadata": {},
     "output_type": "display_data"
    }
   ],
   "source": [
    "cm = confusion_matrix(lista_predicto2, lista_real2)\n",
    "\n",
    "plt.figure(figsize=(6, 5))\n",
    "sns.heatmap(cm, annot=True, fmt=\"d\", cmap=\"Blues\", xticklabels=[\"virginica\", \"versicolor\"], yticklabels=[\"virginica\", \"versicolor\"])\n",
    "plt.xlabel(\"Predito\")\n",
    "plt.ylabel(\"Real\")\n",
    "plt.title(\"Matriz de confusão\")\n",
    "plt.show()"
   ]
  },
  {
   "cell_type": "code",
   "execution_count": null,
   "metadata": {},
   "outputs": [],
   "source": []
  }
 ],
 "metadata": {
  "kernelspec": {
   "display_name": "Python 3 (ipykernel)",
   "language": "python",
   "name": "python3"
  },
  "language_info": {
   "codemirror_mode": {
    "name": "ipython",
    "version": 3
   },
   "file_extension": ".py",
   "mimetype": "text/x-python",
   "name": "python",
   "nbconvert_exporter": "python",
   "pygments_lexer": "ipython3",
   "version": "3.8.10"
  },
  "vscode": {
   "interpreter": {
    "hash": "c678e3f66743645e33b6314b757a7fae54a0b47e448553da800af6fd6acf178d"
   }
  }
 },
 "nbformat": 4,
 "nbformat_minor": 4
}
