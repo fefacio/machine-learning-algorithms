{
 "cells": [
  {
   "cell_type": "code",
   "execution_count": 1,
   "metadata": {},
   "outputs": [],
   "source": [
    "import pandas as pd\n",
    "import seaborn as sns\n",
    "import numpy as np\n",
    "import math\n",
    "import sympy as sp\n",
    "import random\n",
    "from tqdm import tqdm"
   ]
  },
  {
   "cell_type": "code",
   "execution_count": 2,
   "metadata": {},
   "outputs": [],
   "source": [
    "df = pd.read_csv('Salary_dataset.csv')\n",
    "df.drop(columns='Unnamed: 0',axis=1, inplace=True)"
   ]
  },
  {
   "cell_type": "code",
   "execution_count": 3,
   "metadata": {},
   "outputs": [],
   "source": [
    "def min_max_normalize(column):\n",
    "    return (column - column.min()) / (column.max() - column.min())\n",
    "columns_to_normalize = df.columns\n",
    "\n",
    "df[columns_to_normalize] = df[columns_to_normalize].apply(min_max_normalize)"
   ]
  },
  {
   "cell_type": "code",
   "execution_count": 4,
   "metadata": {},
   "outputs": [],
   "source": [
    "def previsao(df,w,b):\n",
    "    lista_predicto = []\n",
    "    lista_real = []\n",
    "    linhas, colunas  = df.shape\n",
    "    for linha in range(linhas):\n",
    "        total = 0\n",
    "        for coluna in range(colunas-1):\n",
    "            x = df.iloc[linha,coluna]\n",
    "            total += x * w[coluna]\n",
    "        y_predicto = total + b\n",
    "        lista_predicto.append(y_predicto)\n",
    "    lista_real = df.iloc[:,colunas-1].tolist()\n",
    "    return lista_predicto, lista_real"
   ]
  },
  {
   "cell_type": "code",
   "execution_count": 5,
   "metadata": {},
   "outputs": [],
   "source": [
    "def n_interacao(interacao,n):\n",
    "    return n/interacao"
   ]
  },
  {
   "cell_type": "markdown",
   "metadata": {},
   "source": [
    "<b>Função linear: </b><br>\n",
    "$f(x)=x$"
   ]
  },
  {
   "cell_type": "markdown",
   "metadata": {},
   "source": [
    "<b>Calculando o gradiente descendente para o peso </b> <br><br>\n",
    "\n",
    "$\\frac{\\partial E}{\\partial \\omega_k} = \n",
    "\\frac{1}{N} \\sum_{i=1}^N \\frac{\\partial (\\hat{y}-y)^2}{\\partial \\omega_k}$ <br><br>\n",
    "\n",
    "$=\\frac{1}{N} \\sum_{i=1}^N \\frac{\\partial (\\hat{y}_i-y_i)^2}{\\partial (\\hat{y}_i-y_i)}$ \n",
    "$\\cdot\\frac{\\partial (\\hat{y}_i-y_i)}{\\partial \\hat{y}_i}$\n",
    "$\\cdot \\frac{\\partial \\hat{y}_i}{\\partial \\omega_{k}}$ <br><br> \n",
    "\n",
    "$=\\frac{1}{N} \\sum_{i=1}^N \\frac{\\partial (\\hat{y}-y)^2}{\\partial (\\hat{y}-y)}$ \n",
    "$\\cdot\\frac{\\partial (\\hat{y}-y)}{\\partial \\hat{y}}$\n",
    "$\\cdot \\frac{\\partial f_a(sum)}{\\partial sum}$\n",
    "$\\cdot \\frac{\\partial sum}{\\partial \\omega_{k}}$ <br><br> \n",
    "\n",
    "Considerando a função de ativação linear: <br><br>\n",
    "$=\\frac{1}{N} \\sum_{i=1}^N 2\\cdot(\\hat{y}_i-y_i) \\cdot 1 \\cdot 1 \\cdot x_i^k$ <br><br>"
   ]
  },
  {
   "cell_type": "markdown",
   "metadata": {},
   "source": [
    "<b>Fórmula final para atualizar o peso</b> <br><br>\n",
    "Considerando a função de ativação linear: <br><br>\n",
    "\n",
    "$\\omega_{k}^{t} = \\omega_{k}^{t-1} - \\eta^{t} \\cdot\\frac{1}{N} \\sum_{i=1}^N 2\\cdot(\\hat{y}_i-y_i) \\cdot 1 \\cdot 1 \\cdot x_i^k$ <br><br>"
   ]
  },
  {
   "cell_type": "markdown",
   "metadata": {},
   "source": [
    "<b>Calculando o gradiente descendente para o bias </b> <br><br>\n",
    "\n",
    "$\\frac{\\partial E}{\\partial b_k} = \n",
    "\\frac{1}{N} \\sum_{i=1}^N \\frac{\\partial (\\hat{y}-y)^2}{\\partial b_k}$ <br><br>\n",
    "\n",
    "$=\\frac{1}{N} \\sum_{i=1}^N \\frac{\\partial (\\hat{y}_i-y_i)^2}{\\partial (\\hat{y}_i-y_i)}$ \n",
    "$\\cdot\\frac{\\partial (\\hat{y}_i-y_i)}{\\partial \\hat{y}_i}$\n",
    "$\\cdot \\frac{\\partial \\hat{y}_i}{\\partial b_{k}}$ <br><br> \n",
    "\n",
    "$=\\frac{1}{N} \\sum_{i=1}^N \\frac{\\partial (\\hat{y}-y)^2}{\\partial (\\hat{y}-y)}$ \n",
    "$\\cdot\\frac{\\partial (\\hat{y}-y)}{\\partial \\hat{y}}$\n",
    "$\\cdot \\frac{\\partial f_a(sum)}{\\partial sum}$\n",
    "$\\cdot \\frac{\\partial sum}{\\partial b_{k}}$ <br><br> \n",
    "\n",
    "Considerando a função de ativação linear: <br><br>\n",
    "$=\\frac{1}{N} \\sum_{i=1}^N 2\\cdot(\\hat{y}_i-y_i) \\cdot 1 \\cdot 1 \\cdot 1$ <br><br>\n"
   ]
  },
  {
   "cell_type": "markdown",
   "metadata": {},
   "source": [
    "<b>Fórmula final para atualizar o bias</b> <br><br>\n",
    "Considerando a função de ativação linear: <br><br>\n",
    "\n",
    "$b_{k}^{t} = b_{k}^{t-1} - \\eta^{t} \\cdot\\frac{1}{N} \\sum_{i=1}^N 2\\cdot(\\hat{y}_i-y_i) \\cdot 1 \\cdot 1 \\cdot 1$ <br><br>"
   ]
  },
  {
   "cell_type": "markdown",
   "metadata": {},
   "source": [
    "Obs: Como discutido em aula iremos desconsiderar o \"2\" em nossos cálculos"
   ]
  },
  {
   "cell_type": "code",
   "execution_count": 6,
   "metadata": {},
   "outputs": [],
   "source": [
    "def atualizacao_peso(lista_predicto,lista_real,df,w,n,b,interacao):\n",
    "    \n",
    "    w_novo = []\n",
    "\n",
    "    #n = n_interacao(interacao,n)\n",
    "\n",
    "    linhas, colunas  = df.shape\n",
    "    y_diferenca = [i1 - i2 for i1, i2 in zip(lista_predicto,lista_real)]\n",
    "    for coluna in range(colunas-1):\n",
    "        w_total = 0\n",
    "\n",
    "        for linha in range(linhas):\n",
    "            w_total += (y_diferenca[linha] * df.iloc[linha,coluna])\n",
    "            \n",
    "        w_total = w[coluna] - n * (w_total/linhas)\n",
    "        w_novo.append(w_total)\n",
    "        \n",
    "    b_novo = sum(y_diferenca)\n",
    "    b_novo /= linhas\n",
    "    b_novo = b - n * b_novo\n",
    "\n",
    "    return w_novo,b_novo"
   ]
  },
  {
   "cell_type": "code",
   "execution_count": 7,
   "metadata": {},
   "outputs": [],
   "source": [
    "w = [random.gauss(0, 0.5) for _ in range(df.shape[1] - 1)]\n",
    "b = random.gauss(0, 0.5)\n",
    "n=0.4"
   ]
  },
  {
   "cell_type": "code",
   "execution_count": 8,
   "metadata": {},
   "outputs": [
    {
     "name": "stderr",
     "output_type": "stream",
     "text": [
      "100%|████████████████████████████████████████████| 9/9 [00:00<00:00, 211.06it/s]\n"
     ]
    }
   ],
   "source": [
    "interacao = 10\n",
    "for i in tqdm(range(1,interacao)):\n",
    "    if (interacao%11==0):\n",
    "        n = n*0.9\n",
    "    lista_predicto, lista_real = previsao(df,w,b)\n",
    "    w, b = atualizacao_peso(lista_predicto,lista_real,df,w,n,b,i)"
   ]
  },
  {
   "cell_type": "code",
   "execution_count": 9,
   "metadata": {},
   "outputs": [
    {
     "name": "stderr",
     "output_type": "stream",
     "text": [
      "100%|██████████████████████████████████████████| 99/99 [00:00<00:00, 623.89it/s]\n"
     ]
    }
   ],
   "source": [
    "interacao = 100\n",
    "for i in tqdm(range(1,interacao)):\n",
    "    lista_predicto, lista_real = previsao(df,w,b)\n",
    "    w, b = atualizacao_peso(lista_predicto,lista_real,df,w,n,b,i)"
   ]
  },
  {
   "cell_type": "code",
   "execution_count": 14,
   "metadata": {},
   "outputs": [
    {
     "name": "stdout",
     "output_type": "stream",
     "text": [
      "RMSE: 0.0662\n",
      "    REAL  PREDICTO\n",
      "0.019041 -0.010086\n",
      "0.100094  0.011879\n",
      "0.000000  0.033845\n",
      "0.068438  0.088759\n",
      "0.025514  0.110725\n",
      "0.223376  0.187605\n",
      "0.264812  0.198588\n",
      "0.197425  0.220553\n",
      "0.315545  0.220553\n",
      "0.229837  0.275468\n",
      "0.301051  0.297433\n",
      "0.213359  0.308416\n",
      "0.227097  0.308416\n",
      "0.228561  0.319399\n",
      "0.276163  0.363330\n",
      "0.356804  0.407262\n",
      "0.334255  0.429227\n",
      "0.535755  0.451193\n",
      "0.515379  0.517090\n",
      "0.663938  0.528073\n",
      "0.637928  0.615935\n",
      "0.715119  0.648884\n",
      "0.750898  0.736747\n",
      "0.898665  0.769695\n",
      "0.846917  0.824609\n",
      "0.801453  0.857558\n",
      "0.935956  0.912472\n",
      "0.884763  0.923455\n",
      "1.000000  1.000335\n",
      "0.993870  1.022300\n"
     ]
    }
   ],
   "source": [
    "total = 0\n",
    "for i in range(len(lista_predicto)):\n",
    "    a = (df['Salary'].iloc[i] - lista_predicto[i])**2\n",
    "    total += a\n",
    "print(f'RMSE: {round((total/len(lista_predicto))**(1/2),4)}')\n",
    "result = pd.DataFrame({'REAL':lista_real, 'PREDICTO':lista_predicto})\n",
    "print(result.to_string(index=False))\n"
   ]
  }
 ],
 "metadata": {
  "kernelspec": {
   "display_name": "Python 3 (ipykernel)",
   "language": "python",
   "name": "python3"
  },
  "language_info": {
   "codemirror_mode": {
    "name": "ipython",
    "version": 3
   },
   "file_extension": ".py",
   "mimetype": "text/x-python",
   "name": "python",
   "nbconvert_exporter": "python",
   "pygments_lexer": "ipython3",
   "version": "3.8.10"
  },
  "vscode": {
   "interpreter": {
    "hash": "c678e3f66743645e33b6314b757a7fae54a0b47e448553da800af6fd6acf178d"
   }
  }
 },
 "nbformat": 4,
 "nbformat_minor": 4
}
