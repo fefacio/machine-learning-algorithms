{
 "cells": [
  {
   "cell_type": "code",
   "execution_count": 21,
   "metadata": {},
   "outputs": [],
   "source": [
    "import random\n",
    "import pandas as pd\n",
    "import seaborn as sns\n",
    "import numpy as np\n",
    "import math\n",
    "import matplotlib.pyplot as plt\n",
    "from tqdm import tqdm\n",
    "from sklearn.metrics import confusion_matrix"
   ]
  },
  {
   "cell_type": "code",
   "execution_count": 2,
   "metadata": {},
   "outputs": [],
   "source": [
    "df = sns.load_dataset('iris')\n",
    "tipos = df.iloc[:,-1].unique().tolist()\n",
    "df1 = df[ (df.iloc[:,-1]==tipos[0]) | (df.iloc[:,-1]==tipos[1]) ]\n",
    "df2 = df[ (df.iloc[:,-1]==tipos[1]) | (df.iloc[:,-1]==tipos[2]) ]"
   ]
  },
  {
   "cell_type": "code",
   "execution_count": 3,
   "metadata": {},
   "outputs": [
    {
     "name": "stderr",
     "output_type": "stream",
     "text": [
      "/tmp/ipykernel_50794/1334216853.py:2: SettingWithCopyWarning: \n",
      "A value is trying to be set on a copy of a slice from a DataFrame.\n",
      "Try using .loc[row_indexer,col_indexer] = value instead\n",
      "\n",
      "See the caveats in the documentation: https://pandas.pydata.org/pandas-docs/stable/user_guide/indexing.html#returning-a-view-versus-a-copy\n",
      "  df1['species'] = df1['species'].replace({'setosa': 0, 'versicolor': 1})\n"
     ]
    }
   ],
   "source": [
    "from sklearn.preprocessing import MinMaxScaler\n",
    "df1['species'] = df1['species'].replace({'setosa': 0, 'versicolor': 1})\n",
    "df1 = df1.sample(frac=1).reset_index(drop=True)\n",
    "df_normalized = pd.DataFrame(MinMaxScaler().fit_transform(df1), columns=df1.columns)"
   ]
  },
  {
   "cell_type": "code",
   "execution_count": 4,
   "metadata": {},
   "outputs": [
    {
     "name": "stderr",
     "output_type": "stream",
     "text": [
      "/tmp/ipykernel_50794/195308449.py:2: SettingWithCopyWarning: \n",
      "A value is trying to be set on a copy of a slice from a DataFrame.\n",
      "Try using .loc[row_indexer,col_indexer] = value instead\n",
      "\n",
      "See the caveats in the documentation: https://pandas.pydata.org/pandas-docs/stable/user_guide/indexing.html#returning-a-view-versus-a-copy\n",
      "  df2['species'] = df2['species'].replace({'virginica': 0, 'versicolor': 1})\n"
     ]
    }
   ],
   "source": [
    "from sklearn.preprocessing import MinMaxScaler\n",
    "df2['species'] = df2['species'].replace({'virginica': 0, 'versicolor': 1})\n",
    "df2 = df2.sample(frac=1).reset_index(drop=True)\n",
    "df_normalized = pd.DataFrame(MinMaxScaler().fit_transform(df2), columns=df2.columns)"
   ]
  },
  {
   "cell_type": "markdown",
   "metadata": {},
   "source": [
    "<b>Função sigmoide: </b><br>\n",
    "\n",
    "$f(x) = \\frac{1}{1+e^{-x}}$"
   ]
  },
  {
   "cell_type": "code",
   "execution_count": 5,
   "metadata": {},
   "outputs": [],
   "source": [
    "def sigmoide(x):\n",
    "    total = 1 / (1 + math.e**-x)\n",
    "    if total >= 0.5:\n",
    "        return total, 1\n",
    "    return total, 0\n",
    "\n",
    "def sig(df,w,b):\n",
    "    lista_predicto = []\n",
    "    lista_real = []\n",
    "    lista_valor_real = []\n",
    "    linhas, colunas  = df.shape\n",
    "    for linha in range(linhas):\n",
    "        total = 0\n",
    "        for coluna in range(colunas-1):\n",
    "            x = df.iloc[linha,coluna]\n",
    "            total += x * w[coluna]\n",
    "    \n",
    "        \n",
    "        valor_real, y_predicto = sigmoide(total + b)\n",
    "\n",
    "        lista_predicto.append(y_predicto)\n",
    "        lista_valor_real.append(valor_real)\n",
    "        \n",
    "    lista_real = df.iloc[:,colunas-1].tolist()\n",
    "    return lista_predicto, lista_real, lista_valor_real"
   ]
  },
  {
   "cell_type": "markdown",
   "metadata": {},
   "source": [
    "<b>Calculando o gradiente descendente para o peso </b> <br><br>\n",
    "\n",
    "$\\frac{\\partial E}{\\partial \\omega_k} = \n",
    "\\frac{1}{N} \\sum_{i=1}^N \\frac{\\partial (\\hat{y}-y)^2}{\\partial \\omega_k}$ <br><br>\n",
    "\n",
    "$=\\frac{1}{N} \\sum_{i=1}^N \\frac{\\partial (\\hat{y}_i-y_i)^2}{\\partial (\\hat{y}_i-y_i)}$ \n",
    "$\\cdot\\frac{\\partial (\\hat{y}_i-y_i)}{\\partial \\hat{y}_i}$\n",
    "$\\cdot \\frac{\\partial \\hat{y}_i}{\\partial \\omega_{k}}$ <br><br> \n",
    "\n",
    "$=\\frac{1}{N} \\sum_{i=1}^N \\frac{\\partial (\\hat{y}-y)^2}{\\partial (\\hat{y}-y)}$ \n",
    "$\\cdot\\frac{\\partial (\\hat{y}-y)}{\\partial \\hat{y}}$\n",
    "$\\cdot \\frac{\\partial f_a(sum)}{\\partial sum}$\n",
    "$\\cdot \\frac{\\partial sum}{\\partial \\omega_{k}}$ <br><br> \n",
    "\n",
    "Considerando a função de ativação sigmoide: <br><br>\n",
    "$=\\frac{1}{N} \\sum_{i=1}^N 2\\cdot(\\hat{y}_i-y_i) \\cdot 1 \\cdot (1-\\hat{y}_i)(\\hat{y}_i) \\cdot x_i^k$\n"
   ]
  },
  {
   "cell_type": "markdown",
   "metadata": {},
   "source": [
    "<b>Fórmula final para atualizar o peso</b> <br><br>\n",
    "\n",
    "Considerando a função de ativação sigmoide: <br><br>\n",
    "\n",
    "$\\omega_{k}^{t} = \\omega_{k}^{t-1} - \\eta^{t} \\cdot\\frac{1}{N} \\sum_{i=1}^N 2\\cdot(\\hat{y}_i-y_i) \\cdot 1 \\cdot (1-\\hat{y}_i)(\\hat{y}_i) \\cdot x_i^k$ <br><br>"
   ]
  },
  {
   "cell_type": "markdown",
   "metadata": {},
   "source": [
    "<b>Calculando o gradiente descendente para o bias </b> <br><br>\n",
    "\n",
    "$\\frac{\\partial E}{\\partial b_k} = \n",
    "\\frac{1}{N} \\sum_{i=1}^N \\frac{\\partial (\\hat{y}-y)^2}{\\partial b_k}$ <br><br>\n",
    "\n",
    "$=\\frac{1}{N} \\sum_{i=1}^N \\frac{\\partial (\\hat{y}_i-y_i)^2}{\\partial (\\hat{y}_i-y_i)}$ \n",
    "$\\cdot\\frac{\\partial (\\hat{y}_i-y_i)}{\\partial \\hat{y}_i}$\n",
    "$\\cdot \\frac{\\partial \\hat{y}_i}{\\partial b_{k}}$ <br><br> \n",
    "\n",
    "$=\\frac{1}{N} \\sum_{i=1}^N \\frac{\\partial (\\hat{y}-y)^2}{\\partial (\\hat{y}-y)}$ \n",
    "$\\cdot\\frac{\\partial (\\hat{y}-y)}{\\partial \\hat{y}}$\n",
    "$\\cdot \\frac{\\partial f_a(sum)}{\\partial sum}$\n",
    "$\\cdot \\frac{\\partial sum}{\\partial b_{k}}$ <br><br> \n",
    "\n",
    "Considerando a função de ativação sigmoide: <br><br>\n",
    "$=\\frac{1}{N} \\sum_{i=1}^N 2\\cdot(\\hat{y}_i-y_i) \\cdot 1 \\cdot (1-\\hat{y}_i)(\\hat{y}_i) \\cdot 1$\n"
   ]
  },
  {
   "cell_type": "markdown",
   "metadata": {},
   "source": [
    "<b>Fórmula final para atualizar o bias</b> <br><br>\n",
    "\n",
    "Considerando a função de ativação sigmoide: <br><br>\n",
    "\n",
    "$b_{k}^{t} = b_{k}^{t-1} - \\eta^{t} \\cdot\\frac{1}{N} \\sum_{i=1}^N 2\\cdot(\\hat{y}_i-y_i) \\cdot 1 \\cdot (1-\\hat{y}_i)(\\hat{y}_i) \\cdot 1$ <br><br>"
   ]
  },
  {
   "cell_type": "markdown",
   "metadata": {},
   "source": [
    "Obs: Como discutido em aula iremos desconsiderar o \"2\" em nossos cálculos"
   ]
  },
  {
   "cell_type": "code",
   "execution_count": 6,
   "metadata": {},
   "outputs": [],
   "source": [
    "def atualizacao_peso(lista_predicto,lista_real,df,w,n,b,interacao,valor_real):\n",
    "    \n",
    "    w_novo = []\n",
    "    b_total = 0\n",
    "    valida_b = False\n",
    "    #n = n_interacao(interacao,n)\n",
    "\n",
    "    linhas, colunas  = df.shape\n",
    "    \n",
    "    y_diferenca = [i1 - i2 for i1, i2 in zip(valor_real,lista_real)]\n",
    "\n",
    "    for coluna in range(colunas-1):\n",
    "        w_total = 0\n",
    "        \n",
    "\n",
    "        for linha in range(linhas):\n",
    "            #\n",
    "            w_total += (y_diferenca[linha] * df.iloc[linha,coluna] * (1-valor_real[linha]) * valor_real[linha])\n",
    "\n",
    "            if not valida_b: \n",
    "                b_total += (y_diferenca[linha] * (1-valor_real[linha]) * valor_real[linha])\n",
    "\n",
    "        valida_b = True\n",
    "        w_total = w[coluna] - n * (w_total/linhas)\n",
    "        w_novo.append(w_total)\n",
    "\n",
    "\n",
    "    b_novo = b_total / linhas\n",
    "    b_novo = b - n * b_novo\n",
    "    \n",
    "    return w_novo,b_novo"
   ]
  },
  {
   "cell_type": "code",
   "execution_count": 7,
   "metadata": {},
   "outputs": [],
   "source": [
    "w = [random.gauss(0, 0.5) for _ in range(df.shape[1] - 1)]\n",
    "b = random.gauss(0, 0.5)\n",
    "n=0.9"
   ]
  },
  {
   "cell_type": "code",
   "execution_count": 9,
   "metadata": {},
   "outputs": [
    {
     "name": "stderr",
     "output_type": "stream",
     "text": [
      "100%|█████████████████████████████████████████| 999/999 [00:16<00:00, 59.03it/s]\n"
     ]
    },
    {
     "name": "stderr",
     "output_type": "stream",
     "text": [
      "100%|██████████| 9999/9999 [02:59<00:00, 55.62it/s]\n"
     ]
    }
   ],
   "source": [
    "interacao = 1000\n",
    "for i in tqdm(range(1,interacao)):\n",
    "    if (interacao%11==0):\n",
    "        n = n*0.9\n",
    "    lista_predicto, lista_real, valor_real = sig(df_normalized,w,b)\n",
    "    w, b = atualizacao_peso(lista_predicto,lista_real,df_normalized,w,n,b,i,valor_real)"
   ]
  },
  {
   "cell_type": "code",
   "execution_count": null,
   "metadata": {},
   "outputs": [
    {
     "name": "stderr",
     "output_type": "stream",
     "text": [
      "100%|██████████| 999/999 [00:18<00:00, 52.91it/s]\n"
     ]
    }
   ],
   "source": [
    "interacao = 1000\n",
    "for i in tqdm(range(1,interacao)):\n",
    "    lista_predicto, lista_real, valor_real = sig(df_normalized,w,b)\n",
    "    w, b = atualizacao_peso(lista_predicto,lista_real,df_normalized,w,n,b,i,valor_real)\n"
   ]
  },
  {
   "cell_type": "code",
   "execution_count": 12,
   "metadata": {},
   "outputs": [
    {
     "name": "stdout",
     "output_type": "stream",
     "text": [
      " REAL  -  PREDICTO  -  VALOR PREDICTO REAL \n",
      " 0.0   -    0    -    0.017711894790072305 \n",
      " 1.0   -    1    -    0.8761306737707282 \n",
      " 1.0   -    1    -    0.9860924539788252 \n",
      " 1.0   -    1    -    0.9109040289767111 \n",
      " 0.0   -    0    -    0.07006536295728591 \n",
      " 0.0   -    0    -    0.3579537126293373 \n",
      " 0.0   -    0    -    0.40773151941477076 \n",
      " 0.0   -    0    -    0.0163500812986886 \n",
      " 0.0   -    0    -    0.12747856568134955 \n",
      " 0.0   -    0    -    0.00711014631390507 \n",
      " 1.0   -    1    -    0.5426493079026742 \n",
      " 0.0   -    0    -    0.30206449811205205 \n",
      " 0.0   -    0    -    0.03784442658810936 \n",
      " 0.0   -    0    -    0.023910961722066467 \n",
      " 1.0   -    1    -    0.8439300732068795 \n",
      " 1.0   -    1    -    0.5551464174255821 \n",
      " 1.0   -    1    -    0.9279315034559924 \n",
      " 0.0   -    0    -    0.08044742006821658 \n",
      " 1.0   -    1    -    0.7956588540522209 \n",
      " 1.0   -    1    -    0.9031993390860772 \n",
      " 0.0   -    0    -    0.014316068457281441 \n",
      " 0.0   -    0    -    0.04239597727259211 \n",
      " 0.0   -    0    -    0.0390459070949607 \n",
      " 1.0   -    1    -    0.744282074591825 \n",
      " 1.0   -    1    -    0.9887793081026832 \n",
      " 0.0   -    0    -    0.02815033069842252 \n",
      " 0.0   -    0    -    0.018728792494768613 \n",
      " 0.0   -    0    -    0.08259388323585803 \n",
      " 1.0   -    0    -    0.45195400108936257 \n",
      " 0.0   -    0    -    0.21293043599084943 \n",
      " 1.0   -    1    -    0.8927740043627601 \n",
      " 1.0   -    1    -    0.9808043663432796 \n",
      " 0.0   -    0    -    0.03716026776106633 \n",
      " 1.0   -    1    -    0.7759867010574314 \n",
      " 1.0   -    1    -    0.9648502072870783 \n",
      " 0.0   -    0    -    0.18113277072715406 \n",
      " 0.0   -    0    -    0.14537943886301533 \n",
      " 0.0   -    0    -    0.10151499846336025 \n",
      " 0.0   -    0    -    0.01649932223741245 \n",
      " 1.0   -    1    -    0.9799747935127964 \n",
      " 1.0   -    1    -    0.9882624939410557 \n",
      " 0.0   -    0    -    0.3394721092760467 \n",
      " 1.0   -    1    -    0.9728200590065385 \n",
      " 0.0   -    0    -    0.011390102590534992 \n",
      " 0.0   -    0    -    0.14537943886301533 \n",
      " 1.0   -    1    -    0.8873065895527222 \n",
      " 0.0   -    0    -    0.4011661049213067 \n",
      " 0.0   -    1    -    0.5897156837749749 \n",
      " 1.0   -    1    -    0.9449803391894592 \n",
      " 0.0   -    0    -    0.02542856299257302 \n",
      " 0.0   -    0    -    0.38580965132914186 \n",
      " 1.0   -    1    -    0.9469815945491755 \n",
      " 0.0   -    0    -    0.010398987402483793 \n",
      " 1.0   -    1    -    0.8745165623875336 \n",
      " 1.0   -    1    -    0.9294506725048239 \n",
      " 1.0   -    1    -    0.8973646489699153 \n",
      " 0.0   -    0    -    0.1324693578335104 \n",
      " 0.0   -    0    -    0.08329644090881813 \n",
      " 0.0   -    0    -    0.12765538717052913 \n",
      " 1.0   -    1    -    0.7870001519620687 \n",
      " 0.0   -    0    -    0.03249762197209236 \n",
      " 1.0   -    1    -    0.9879140868186428 \n",
      " 1.0   -    1    -    0.9152771122841662 \n",
      " 0.0   -    0    -    0.3209446389495373 \n",
      " 1.0   -    1    -    0.8525216125975917 \n",
      " 0.0   -    0    -    0.057518073935492665 \n",
      " 1.0   -    1    -    0.9074450257511779 \n",
      " 1.0   -    1    -    0.9641301479347564 \n",
      " 1.0   -    1    -    0.9659360503365703 \n",
      " 0.0   -    0    -    0.4853491169019864 \n",
      " 0.0   -    0    -    0.2660755205217734 \n",
      " 1.0   -    1    -    0.7747692726535171 \n",
      " 0.0   -    0    -    0.11970098711760022 \n",
      " 1.0   -    1    -    0.9589674648665386 \n",
      " 0.0   -    0    -    0.23773919685481912 \n",
      " 1.0   -    1    -    0.8827490540713392 \n",
      " 1.0   -    1    -    0.8134284311888962 \n",
      " 1.0   -    0    -    0.4559077911010007 \n",
      " 1.0   -    1    -    0.9366083920584906 \n",
      " 0.0   -    0    -    0.044185189653131014 \n",
      " 1.0   -    1    -    0.8154268109428083 \n",
      " 0.0   -    0    -    0.1673229583757077 \n",
      " 0.0   -    0    -    0.07576758519654161 \n",
      " 0.0   -    0    -    0.0023978510269377744 \n",
      " 1.0   -    1    -    0.9614562280694374 \n",
      " 0.0   -    0    -    0.021691539865545485 \n",
      " 0.0   -    0    -    0.0587562994241448 \n",
      " 1.0   -    1    -    0.7280765373435171 \n",
      " 1.0   -    1    -    0.9222718961519837 \n",
      " 1.0   -    1    -    0.7968462076175066 \n",
      " 0.0   -    0    -    0.17029737097629427 \n",
      " 0.0   -    0    -    0.02422928769085586 \n",
      " 1.0   -    1    -    0.9650498816999022 \n",
      " 1.0   -    1    -    0.895161372170459 \n",
      " 1.0   -    1    -    0.7486856279156152 \n",
      " 1.0   -    0    -    0.4288460191987138 \n",
      " 1.0   -    1    -    0.8515161826483634 \n",
      " 1.0   -    1    -    0.8144141191515795 \n",
      " 0.0   -    0    -    0.010036597915189129 \n",
      " 1.0   -    1    -    0.9227949338609689 \n",
      "taxa de acertos 96.0%\n"
     ]
    }
   ],
   "source": [
    "df_final = pd.DataFrame({'Real': lista_real, 'Pred': lista_predicto, 'Valor Real':valor_real})\n",
    "a = 0 \n",
    "print(f\" REAL  -  PREDICTO  -  VALOR PREDICTO REAL \")\n",
    "for i in range(len(df_final)):\n",
    "    print(f\" {df_final['Real'].iloc[i]}   -    {df_final['Pred'].iloc[i]}    -    {df_final['Valor Real'].iloc[i]} \")\n",
    "    if df_final['Real'].iloc[i] == df_final['Pred'].iloc[i]:\n",
    "        a += 1\n",
    "print(f'taxa de acertos {a/len(df_final)*100}%')"
   ]
  },
  {
   "cell_type": "code",
   "execution_count": 23,
   "metadata": {},
   "outputs": [
    {
     "data": {
      "image/png": "[encoded data removed]",
      "text/plain": [
       "<Figure size 600x500 with 2 Axes>"
      ]
     },
     "metadata": {},
     "output_type": "display_data"
    }
   ],
   "source": [
    "cm = confusion_matrix(df_final.iloc[:,0], df_final.iloc[:,1])\n",
    "\n",
    "plt.figure(figsize=(6, 5))\n",
    "sns.heatmap(cm, annot=True, fmt=\"d\", cmap=\"Blues\", xticklabels=[\"Positivo\", \"Negativo\"], yticklabels=[\"Positivo\", \"Negativo\"])\n",
    "plt.xlabel(\"Predito\")\n",
    "plt.ylabel(\"Real\")\n",
    "plt.title(\"Matriz de confusão\")\n",
    "plt.show()"
   ]
  },
  {
   "cell_type": "code",
   "execution_count": null,
   "metadata": {},
   "outputs": [],
   "source": []
  }
 ],
 "metadata": {
  "kernelspec": {
   "display_name": "Python 3 (ipykernel)",
   "language": "python",
   "name": "python3"
  },
  "language_info": {
   "codemirror_mode": {
    "name": "ipython",
    "version": 3
   },
   "file_extension": ".py",
   "mimetype": "text/x-python",
   "name": "python",
   "nbconvert_exporter": "python",
   "pygments_lexer": "ipython3",
   "version": "3.8.10"
  },
  "vscode": {
   "interpreter": {
    "hash": "c678e3f66743645e33b6314b757a7fae54a0b47e448553da800af6fd6acf178d"
   }
  }
 },
 "nbformat": 4,
 "nbformat_minor": 4
}
